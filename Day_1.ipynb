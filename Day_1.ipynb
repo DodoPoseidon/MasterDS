{
 "cells": [
  {
   "cell_type": "code",
   "execution_count": 1,
   "id": "5f4854ca-b4e9-46c8-9e55-afac6b210efe",
   "metadata": {},
   "outputs": [
    {
     "data": {
      "text/plain": [
       "4"
      ]
     },
     "execution_count": 1,
     "metadata": {},
     "output_type": "execute_result"
    }
   ],
   "source": [
    "2+2"
   ]
  },
  {
   "cell_type": "code",
   "execution_count": 3,
   "id": "85eab849-4117-4734-97a9-3435975839f5",
   "metadata": {},
   "outputs": [
    {
     "name": "stdout",
     "output_type": "stream",
     "text": [
      "Ten is greater than five\n"
     ]
    }
   ],
   "source": [
    "if 10>5:\n",
    "\n",
    "    print(\"Ten is greater than five\")"
   ]
  },
  {
   "cell_type": "code",
   "execution_count": 19,
   "id": "2e28c43d-c5e5-4651-9e15-f4b971da6273",
   "metadata": {},
   "outputs": [],
   "source": [
    "def sum(a,b):\n",
    "\n",
    "    result = (a+b)\n",
    "    return(result)"
   ]
  },
  {
   "cell_type": "code",
   "execution_count": 20,
   "id": "8f99a81f-621a-4381-9c6f-1c115f6b9e9d",
   "metadata": {},
   "outputs": [
    {
     "data": {
      "text/plain": [
       "170"
      ]
     },
     "execution_count": 20,
     "metadata": {},
     "output_type": "execute_result"
    }
   ],
   "source": [
    "sum(80,90)"
   ]
  },
  {
   "cell_type": "code",
   "execution_count": 22,
   "id": "9ac41766-15c6-4368-9e7a-708e416f6eb3",
   "metadata": {},
   "outputs": [],
   "source": [
    "Dodo = 78"
   ]
  },
  {
   "cell_type": "code",
   "execution_count": 23,
   "id": "7b55fa93-40a9-498a-9545-d5985d610dbb",
   "metadata": {},
   "outputs": [],
   "source": [
    "dodo=98"
   ]
  },
  {
   "cell_type": "code",
   "execution_count": 24,
   "id": "2774c4ce-62f3-42d2-9b0d-775cd8d5edea",
   "metadata": {},
   "outputs": [
    {
     "name": "stdout",
     "output_type": "stream",
     "text": [
      "98 78\n"
     ]
    }
   ],
   "source": [
    "print (dodo, Dodo)"
   ]
  },
  {
   "cell_type": "code",
   "execution_count": 25,
   "id": "d9424b02-079c-4ed1-9f3b-e49b224e7107",
   "metadata": {},
   "outputs": [],
   "source": [
    "t = Dodo"
   ]
  },
  {
   "cell_type": "code",
   "execution_count": 27,
   "id": "6e0ca0a6-5896-441d-8984-a32746c874d7",
   "metadata": {},
   "outputs": [
    {
     "name": "stdout",
     "output_type": "stream",
     "text": [
      "78\n"
     ]
    }
   ],
   "source": [
    "print (t)"
   ]
  },
  {
   "cell_type": "code",
   "execution_count": 29,
   "id": "dceb8d9b-674f-4283-8dee-8f760abb6d3c",
   "metadata": {},
   "outputs": [
    {
     "data": {
      "text/plain": [
       "3.141592653589793"
      ]
     },
     "execution_count": 29,
     "metadata": {},
     "output_type": "execute_result"
    }
   ],
   "source": [
    "import math\n",
    "\n",
    "math.pi"
   ]
  },
  {
   "cell_type": "code",
   "execution_count": 58,
   "id": "2d8bc6c2-5b4d-47e8-8380-3835ceaa5600",
   "metadata": {},
   "outputs": [
    {
     "name": "stdin",
     "output_type": "stream",
     "text": [
      "Mettere primo valore: 9\n",
      "Mettere secondo valore: 6\n"
     ]
    },
    {
     "name": "stdout",
     "output_type": "stream",
     "text": [
      "\n",
      "La somma è 15\n",
      "\n",
      "La differenza è 3\n",
      "\n",
      "Il prodotto è 54\n",
      "\n",
      "L'esponenziale è 531441\n",
      "\n",
      "La differenza è 1.5\n",
      "\n",
      "Il minimo differenziale è 1\n",
      "\n",
      "Il resto è: 3\n"
     ]
    }
   ],
   "source": [
    "x = int(input (\"Mettere primo valore:\"))\n",
    "y = int(input(\"Mettere secondo valore:\"))\n",
    "\n",
    "print(\"\\nLa somma è \" + str(x+y),  \"\\nLa differenza è \" + str(x-y), \"\\nIl prodotto è \" + str(x*y), \"\\nL'esponenziale è \" + str(x**y), \"\\nLa differenza è \" + str(x/y), \"\\nIl minimo differenziale è \" + str(x//y), \"\\nIl resto è: \" + str(x%y), sep=\"\\n\")\n"
   ]
  },
  {
   "cell_type": "code",
   "execution_count": 59,
   "id": "0fbfbe1e-17a0-4dba-8a69-a1db86e6b4de",
   "metadata": {},
   "outputs": [
    {
     "name": "stdout",
     "output_type": "stream",
     "text": [
      "Ciao 'mondo'\n"
     ]
    }
   ],
   "source": [
    "print(\"Ciao 'mondo'\")"
   ]
  },
  {
   "cell_type": "code",
   "execution_count": 63,
   "id": "a2d34251-372d-4bab-bf1a-dbcc9ab17658",
   "metadata": {},
   "outputs": [
    {
     "name": "stdout",
     "output_type": "stream",
     "text": [
      "Cioa \"caro\" 'mondo'\n"
     ]
    }
   ],
   "source": [
    "print(\"\"\"Cioa \"caro\" 'mondo'\"\"\")"
   ]
  },
  {
   "cell_type": "code",
   "execution_count": 67,
   "id": "a419e52d-34c3-4cd5-b3dc-718836929824",
   "metadata": {},
   "outputs": [
    {
     "data": {
      "text/plain": [
       "'e va oggi?'"
      ]
     },
     "execution_count": 67,
     "metadata": {},
     "output_type": "execute_result"
    }
   ],
   "source": [
    "s=\"ciao come va oggi?\"\n",
    "\n",
    "s[10:] #stringa dalla 10 in poi\n",
    "s[:-10] #stringa senza le ultime 10 caratteri\n",
    "s[-10:] #stringa con gli ultimi 10 caratteri"
   ]
  },
  {
   "cell_type": "code",
   "execution_count": 81,
   "id": "bb7b5f0b-f27c-4f08-8c98-6329eee18abc",
   "metadata": {},
   "outputs": [
    {
     "name": "stdout",
     "output_type": "stream",
     "text": [
      "la somma di 9\n"
     ]
    }
   ],
   "source": [
    "print(\"la somma di {}\" .format(x))"
   ]
  },
  {
   "cell_type": "code",
   "execution_count": 83,
   "id": "051c6f40-5125-4623-87df-fc7b44410b5e",
   "metadata": {},
   "outputs": [
    {
     "name": "stdout",
     "output_type": "stream",
     "text": [
      "la somma di 9 and 6 is 15\n"
     ]
    }
   ],
   "source": [
    "print(f\"la somma di {x} and {y} is {x+y}\")"
   ]
  },
  {
   "cell_type": "code",
   "execution_count": null,
   "id": "35a23bd4-ebe1-4462-b584-69ad5c77ffc8",
   "metadata": {},
   "outputs": [],
   "source": []
  }
 ],
 "metadata": {
  "kernelspec": {
   "display_name": "masterds",
   "language": "python",
   "name": "masterds"
  },
  "language_info": {
   "codemirror_mode": {
    "name": "ipython",
    "version": 3
   },
   "file_extension": ".py",
   "mimetype": "text/x-python",
   "name": "python",
   "nbconvert_exporter": "python",
   "pygments_lexer": "ipython3",
   "version": "3.11.11"
  }
 },
 "nbformat": 4,
 "nbformat_minor": 5
}
