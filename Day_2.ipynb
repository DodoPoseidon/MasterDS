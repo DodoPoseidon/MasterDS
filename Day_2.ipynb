{
 "cells": [
  {
   "cell_type": "code",
   "execution_count": 1,
   "id": "6c1127df-6f81-4dcf-9385-0efcdad9a757",
   "metadata": {},
   "outputs": [],
   "source": [
    "dodo = [1,3,4,6,0]"
   ]
  },
  {
   "cell_type": "code",
   "execution_count": 2,
   "id": "84d3cbde-cbcd-49f0-8a29-3c7b7fd82b27",
   "metadata": {},
   "outputs": [
    {
     "data": {
      "text/plain": [
       "4"
      ]
     },
     "execution_count": 2,
     "metadata": {},
     "output_type": "execute_result"
    }
   ],
   "source": [
    "dodo[2]"
   ]
  },
  {
   "cell_type": "code",
   "execution_count": 6,
   "id": "0f9a07c8-ef77-420a-a49c-d65cdb2fdc36",
   "metadata": {},
   "outputs": [
    {
     "data": {
      "text/plain": [
       "0"
      ]
     },
     "execution_count": 6,
     "metadata": {},
     "output_type": "execute_result"
    }
   ],
   "source": [
    "dodo.pop(4)"
   ]
  },
  {
   "cell_type": "code",
   "execution_count": 7,
   "id": "0b2b45e8-2dd4-4424-82b0-5cc00406ed89",
   "metadata": {},
   "outputs": [
    {
     "data": {
      "text/plain": [
       "[1, 3, 4, 6]"
      ]
     },
     "execution_count": 7,
     "metadata": {},
     "output_type": "execute_result"
    }
   ],
   "source": [
    "dodo"
   ]
  },
  {
   "cell_type": "code",
   "execution_count": 10,
   "id": "72493b11-6923-46d9-a2e5-75a7c7a5eac0",
   "metadata": {},
   "outputs": [],
   "source": [
    "dodo.remove(1)"
   ]
  },
  {
   "cell_type": "code",
   "execution_count": 11,
   "id": "1caa2ffd-8174-4ca1-82e1-d74aded93cde",
   "metadata": {},
   "outputs": [
    {
     "data": {
      "text/plain": [
       "[3, 4, 6]"
      ]
     },
     "execution_count": 11,
     "metadata": {},
     "output_type": "execute_result"
    }
   ],
   "source": [
    "dodo"
   ]
  },
  {
   "cell_type": "code",
   "execution_count": 1,
   "id": "84a70ed2-3574-4d76-8c76-497c801bd690",
   "metadata": {},
   "outputs": [],
   "source": [
    "dodo_dic = {'Dodo':'Bergomi','Giulia':'Lorusso'}"
   ]
  },
  {
   "cell_type": "code",
   "execution_count": 8,
   "id": "c303212b-6235-40f1-bd38-5d44a2be04a4",
   "metadata": {},
   "outputs": [
    {
     "data": {
      "text/plain": [
       "dict_items([('Dodo', 'Bergomi'), ('Giulia', 'Lorusso')])"
      ]
     },
     "execution_count": 8,
     "metadata": {},
     "output_type": "execute_result"
    }
   ],
   "source": [
    "dodo_dic.items()"
   ]
  },
  {
   "cell_type": "code",
   "execution_count": 4,
   "id": "4a46b960-f3b4-4c09-8ec2-8da17d02c271",
   "metadata": {},
   "outputs": [
    {
     "name": "stdin",
     "output_type": "stream",
     "text": [
      "Inserisci un numero:  0\n"
     ]
    },
    {
     "name": "stdout",
     "output_type": "stream",
     "text": [
      "\n",
      "X è uguale a 0\n"
     ]
    }
   ],
   "source": [
    "x = int(input(\"Inserisci un numero: \"))\n",
    "\n",
    "if x>0:\n",
    "    print(\"\\nX è positivo\")\n",
    "elif x==0:\n",
    "    print(\"\\nX è uguale a 0\")\n",
    "else: \n",
    "    print(\"\\nX è negativo\")"
   ]
  },
  {
   "cell_type": "code",
   "execution_count": 27,
   "id": "33148ab8-debd-4074-b920-936a7ca5c04e",
   "metadata": {},
   "outputs": [
    {
     "name": "stdin",
     "output_type": "stream",
     "text": [
      "Inserisci la tua età:  44\n"
     ]
    },
    {
     "name": "stdout",
     "output_type": "stream",
     "text": [
      "\n",
      "Adult\n"
     ]
    }
   ],
   "source": [
    "x = int(input(\"Inserisci la tua età: \"))\n",
    "\n",
    "if x<13:\n",
    "    print(\"\\nChild\")\n",
    "elif x<=19:\n",
    "    print(\"\\nTeenager\")\n",
    "elif x<=65: \n",
    "    print(\"\\nAdult\")\n",
    "else:\n",
    "    print(\"\\nSenior\")"
   ]
  },
  {
   "cell_type": "code",
   "execution_count": 66,
   "id": "df6b5ef9-e330-447a-ad34-cfbb0a9eecb9",
   "metadata": {},
   "outputs": [
    {
     "name": "stdin",
     "output_type": "stream",
     "text": [
      "Inserisci i gradi (0-100 °F):  18\n"
     ]
    },
    {
     "name": "stdout",
     "output_type": "stream",
     "text": [
      "\n",
      "Il tuo voto è: E\n"
     ]
    }
   ],
   "source": [
    "x = float(input(\"Inserisci i gradi (0-100 °F): \"))\n",
    "\n",
    "if x>=90 and x<=100:\n",
    "    score = \"A\"\n",
    "    print(f\"\\nIl tuo voto è: {score}\")\n",
    "elif x>=80 and x<=89:\n",
    "    score = \"B\"\n",
    "    print(f\"\\nIl tuo voto è: {score}\")\n",
    "elif x>=70 and x<=79: \n",
    "    score = \"C\"\n",
    "    print(f\"\\nIl tuo voto è: {score}\")\n",
    "elif x>=60 and x<=69: \n",
    "    score = \"D\"\n",
    "    print(f\"\\nIl tuo voto è: {score}\")\n",
    "elif x>=0 and x<=59:\n",
    "    score = \"E\"\n",
    "    print(f\"\\nIl tuo voto è: {score}\")\n",
    "else:\n",
    "    print(\"\\nImmettere valore compreso tra 0 e 100\")"
   ]
  },
  {
   "cell_type": "code",
   "execution_count": 49,
   "id": "5b769ec7-8ae1-401c-9bf3-5f52de3546e3",
   "metadata": {},
   "outputs": [
    {
     "data": {
      "text/plain": [
       "False"
      ]
     },
     "execution_count": 49,
     "metadata": {},
     "output_type": "execute_result"
    }
   ],
   "source": [
    "def xor (a:bool, b:bool):\n",
    "\n",
    "    if a == b:\n",
    "        return False\n",
    "    else:\n",
    "        return True\n",
    "\n",
    "xor (False,False)"
   ]
  },
  {
   "cell_type": "code",
   "execution_count": 52,
   "id": "7ef0e0aa-0946-4ab5-8888-8b5528d327d7",
   "metadata": {},
   "outputs": [
    {
     "data": {
      "text/plain": [
       "True"
      ]
     },
     "execution_count": 52,
     "metadata": {},
     "output_type": "execute_result"
    }
   ],
   "source": [
    "def xor (a:bool, b:bool):\n",
    "    return a!=b\n",
    "\n",
    "xor (False,True)"
   ]
  },
  {
   "cell_type": "code",
   "execution_count": 55,
   "id": "7044c565-fb31-4fb3-9297-b5319d2a9853",
   "metadata": {},
   "outputs": [
    {
     "name": "stdout",
     "output_type": "stream",
     "text": [
      "False\n"
     ]
    }
   ],
   "source": [
    "a= False\n",
    "b=False\n",
    "print(a!=b)"
   ]
  },
  {
   "cell_type": "code",
   "execution_count": 58,
   "id": "877a3e5e-7d44-4688-a9a1-0b263ca35cf1",
   "metadata": {},
   "outputs": [
    {
     "name": "stdout",
     "output_type": "stream",
     "text": [
      "range(0, 5)\n"
     ]
    }
   ],
   "source": [
    "x= range(5)\n",
    "print(x)\n"
   ]
  },
  {
   "cell_type": "code",
   "execution_count": 61,
   "id": "97f1d8d8-0585-4995-a55d-1c80115bb101",
   "metadata": {},
   "outputs": [
    {
     "name": "stdout",
     "output_type": "stream",
     "text": [
      "0\n",
      "1\n",
      "2\n",
      "3\n"
     ]
    }
   ],
   "source": [
    "counter = 0\n",
    "\n",
    "while counter <5:\n",
    "    print (counter)\n",
    "    counter += 1\n",
    "    if counter == 3:\n",
    "        break\n",
    "\n",
    "print(counter)"
   ]
  },
  {
   "cell_type": "code",
   "execution_count": 109,
   "id": "30120572-5df8-4605-9e46-e7a44d8cdf04",
   "metadata": {},
   "outputs": [
    {
     "name": "stdout",
     "output_type": "stream",
     "text": [
      "2\n",
      "4\n",
      "6\n",
      "8\n",
      "10\n",
      "12\n",
      "14\n",
      "16\n",
      "18\n"
     ]
    }
   ],
   "source": [
    "for x in range(2,20):\n",
    "    if x%2 == 0:\n",
    "        print (x)\n"
   ]
  },
  {
   "cell_type": "code",
   "execution_count": 4,
   "id": "c1d7fa70-2b93-48a4-a9c3-a8267d354dce",
   "metadata": {},
   "outputs": [
    {
     "name": "stdin",
     "output_type": "stream",
     "text": [
      "Inserisci un numero:  t\n"
     ]
    },
    {
     "name": "stdout",
     "output_type": "stream",
     "text": [
      "Non è un numero, riprova\n"
     ]
    },
    {
     "name": "stdin",
     "output_type": "stream",
     "text": [
      "Inserisci un numero:  3\n"
     ]
    },
    {
     "name": "stdout",
     "output_type": "stream",
     "text": [
      "Non è un numero pari, riprova\n"
     ]
    },
    {
     "name": "stdin",
     "output_type": "stream",
     "text": [
      "Inserisci un numero:  4\n"
     ]
    },
    {
     "name": "stdout",
     "output_type": "stream",
     "text": [
      "Il numero 4 è pari, grazie\n"
     ]
    }
   ],
   "source": [
    "x =\"c\"\n",
    "while not x.isnumeric(): \n",
    "\n",
    "    x = input(\"Inserisci un numero: \")\n",
    "    if x.isnumeric():\n",
    "        if int(x)%2==0:\n",
    "            break\n",
    "        else:\n",
    "            print(\"Non è un numero pari, riprova\")\n",
    "            x=\"c\"\n",
    "    else:\n",
    "        print(\"Non è un numero, riprova\")\n",
    "        x=\"c\"\n",
    "    \n",
    "\n",
    "print(f\"Il numero {x} è pari, grazie\")\n"
   ]
  },
  {
   "cell_type": "code",
   "execution_count": 16,
   "id": "20e0b7f4-aabd-4e96-b041-fe557e5f50b6",
   "metadata": {},
   "outputs": [
    {
     "name": "stdout",
     "output_type": "stream",
     "text": [
      "['*', '*', '*']\n",
      "['*', '*', '*']\n"
     ]
    }
   ],
   "source": [
    "dm_list=[\n",
    "    [1,2,3],\n",
    "    [4,5,6]\n",
    "]\n",
    "\n",
    "for i in [0,1]:\n",
    "    for j in [0,1,2]:\n",
    "        dm_list[i][j]= '*'  \n",
    "    print(dm_list[i])"
   ]
  },
  {
   "cell_type": "code",
   "execution_count": null,
   "id": "612f958b-54d3-4439-a463-5af419737daa",
   "metadata": {},
   "outputs": [],
   "source": [
    "while x<=1:\n",
    "    x=10\n",
    "    print (x)\n",
    "    x = x/2"
   ]
  },
  {
   "cell_type": "code",
   "execution_count": 5,
   "id": "69ab1225-9066-4c6b-a6fc-8771403be53f",
   "metadata": {},
   "outputs": [
    {
     "name": "stdout",
     "output_type": "stream",
     "text": [
      "10\n",
      "5.0\n",
      "2.5\n",
      "1.25\n"
     ]
    }
   ],
   "source": [
    "x = 10\n",
    "while x>=1:\n",
    "    print (x)\n",
    "    x = x/2"
   ]
  },
  {
   "cell_type": "code",
   "execution_count": 6,
   "id": "0e4b0314-725e-42f7-8e4f-293c67e6cce8",
   "metadata": {},
   "outputs": [],
   "source": [
    "numbers = [0,1,2,3,4,5,6,7,8,9,10]"
   ]
  },
  {
   "cell_type": "code",
   "execution_count": 7,
   "id": "a9d01c83-0b98-4236-8a7b-b5a02f9f45d1",
   "metadata": {},
   "outputs": [
    {
     "name": "stdout",
     "output_type": "stream",
     "text": [
      "0\n",
      "1\n",
      "2\n",
      "3\n",
      "4\n",
      "Loop is terminated\n"
     ]
    }
   ],
   "source": [
    "for i in range (0,10):\n",
    "\n",
    "    if numbers [i] != 5:\n",
    "\n",
    "        print (numbers[i])\n",
    "\n",
    "    else:\n",
    "        break\n",
    "\n",
    "print (\"Loop is terminated\")"
   ]
  },
  {
   "cell_type": "code",
   "execution_count": null,
   "id": "b79a9cf4-b928-431d-8a7c-5691ed511ab8",
   "metadata": {},
   "outputs": [],
   "source": []
  }
 ],
 "metadata": {
  "kernelspec": {
   "display_name": "masterds",
   "language": "python",
   "name": "masterds"
  },
  "language_info": {
   "codemirror_mode": {
    "name": "ipython",
    "version": 3
   },
   "file_extension": ".py",
   "mimetype": "text/x-python",
   "name": "python",
   "nbconvert_exporter": "python",
   "pygments_lexer": "ipython3",
   "version": "3.11.11"
  }
 },
 "nbformat": 4,
 "nbformat_minor": 5
}
